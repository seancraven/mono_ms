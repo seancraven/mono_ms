{
 "cells": [
  {
   "cell_type": "code",
   "execution_count": 16,
   "metadata": {},
   "outputs": [],
   "source": [
    "import matplotlib.pyplot as plt\n",
    "import numpy as np\n",
    "from model_based.train import make_train, HyperParams,  SARSDTuple, make_catch_bce_loss_fn, make_catch_accuracy_loss_fn\n",
    "from model_based.transition_models import CatchModel, CatchEquiModel\n",
    "from model_based.sample_env import make_experience_fn, make_expert_experience_fn\n",
    "import pickle\n",
    "import jax\n",
    "import jax.numpy as jnp\n",
    "import base_rl.higher_order as ho\n",
    "from base_rl.models import ActorCritic\n",
    "import matplotlib\n",
    "from gymnax.environments.bsuite import Catch"
   ]
  },
  {
   "cell_type": "code",
   "execution_count": 17,
   "metadata": {},
   "outputs": [],
   "source": [
    "cfg = ho.CONFIG\n",
    "cfg[\"ENV\"] = Catch()\n",
    "cfg[\"ENV_PARAMS\"] = Catch().default_params\n",
    "train_fn = jax.jit(ho.make_train(cfg, ActorCritic))\n",
    "result = train_fn(jax.random.PRNGKey(42))"
   ]
  },
  {
   "cell_type": "code",
   "execution_count": 18,
   "metadata": {},
   "outputs": [],
   "source": [
    "runner_state= result[\"runner_state\"]\n",
    "expert_params = runner_state[0].params"
   ]
  },
  {
   "cell_type": "code",
   "execution_count": 19,
   "metadata": {},
   "outputs": [
    {
     "name": "stderr",
     "output_type": "stream",
     "text": [
      "/home/sean/ms_mono/.venv/lib/python3.10/site-packages/jax/_src/numpy/array_methods.py:796: UserWarning: Explicitly requested dtype <class 'jax.numpy.int64'> requested in astype is not available, and will be truncated to dtype int32. To enable more dtypes, set the jax_enable_x64 configuration option or the JAX_ENABLE_X64 shell environment variable. See https://github.com/google/jax#current-gotchas for more.\n",
      "  return getattr(self.aval, name).fun(self, *args, **kwargs)\n"
     ]
    }
   ],
   "source": [
    "num = 2000\n",
    "keys = jax.random.split(jax.random.PRNGKey(42), num)\n",
    "random_data = jax.jit(jax.vmap(make_experience_fn(\"Catch-bsuite\", 500)))(keys)\n",
    "random_data_len = np.prod(random_data.reward.shape)\n",
    "random_data = jax.tree_map(lambda x: x.reshape((random_data_len, -1)), random_data)\n",
    "\n",
    "expert_data = jax.jit(jax.vmap(make_expert_experience_fn(\"Catch-bsuite\", 500, expert_params)))(keys)\n",
    "expert_data_len= np.prod(expert_data.reward.shape)\n",
    "expert_data= jax.tree_map(lambda x: x.reshape((expert_data_len, -1)), expert_data)"
   ]
  },
  {
   "cell_type": "code",
   "execution_count": 20,
   "metadata": {},
   "outputs": [],
   "source": [
    "hyp = HyperParams(model=CatchModel, train_frac=0.8)\n",
    "data = random_data.join(expert_data)\n",
    "data_len = np.prod(data.reward.shape)\n",
    "data = jax.tree_map(lambda x: x.reshape(data_len, -1), data)\n",
    "perm = np.random.permutation(data_len)\n",
    "data = jax.tree_map(lambda x: x.at[perm, ...].get(), data)\n",
    "\n",
    "# non_zero = (data.done ==0).reshape(-1)\n",
    "# data = jax.tree_map(lambda x: x.at[non_zero, ...].get(), data)\n",
    "\n",
    "\n",
    "\n",
    "train_data, val_data = data.partition(hyp.get_train_size(data))\n",
    "filtered_data = train_data.filter_by_action(0)\n",
    "\n",
    "# jax.tree_map(lambda x: print(x.shape), train_data)\n",
    "# jax.tree_map(lambda x: print(x.shape), val_data)"
   ]
  },
  {
   "cell_type": "code",
   "execution_count": 21,
   "metadata": {},
   "outputs": [],
   "source": [
    "def train_model(hyp, train_data, val_data):\n",
    "    train = make_train(hyp, train_data, val_data, loss_function_ho=make_catch_bce_loss_fn, val_loss_function_ho=make_catch_accuracy_loss_fn)\n",
    "    result = train(jax.random.PRNGKey(42))\n",
    "    losses = result[1][0]\n",
    "    return losses.train_loss.reshape(-1), losses.val_loss.reshape(-1), result[0] \n",
    "def get_x(loss, epoch):\n",
    "    return np.linspace(0, epoch, len(loss))"
   ]
  },
  {
   "cell_type": "code",
   "execution_count": 22,
   "metadata": {},
   "outputs": [],
   "source": [
    "EPCH=100\n",
    "hyp = HyperParams(model=CatchModel, train_frac=1, epochs=EPCH, learning_rate=1e-5)\n",
    "hyp_equi = HyperParams(model=CatchEquiModel, train_frac=1, epochs=EPCH, learning_rate=1e-5)\n",
    "hyps = [ hyp, hyp_equi]\n",
    "datas = [train_data, filtered_data, random_data]\n"
   ]
  },
  {
   "cell_type": "code",
   "execution_count": 23,
   "metadata": {},
   "outputs": [
    {
     "ename": "ZeroDivisionError",
     "evalue": "float division by zero",
     "output_type": "error",
     "traceback": [
      "\u001b[0;31m---------------------------------------------------------------------------\u001b[0m",
      "\u001b[0;31mZeroDivisionError\u001b[0m                         Traceback (most recent call last)",
      "Cell \u001b[0;32mIn[23], line 8\u001b[0m\n\u001b[1;32m      6\u001b[0m sub_sol \u001b[39m=\u001b[39m []\n\u001b[1;32m      7\u001b[0m \u001b[39mfor\u001b[39;00m i, data \u001b[39min\u001b[39;00m \u001b[39menumerate\u001b[39m(datas):\n\u001b[0;32m----> 8\u001b[0m     train_loss, val_loss, runner_state\u001b[39m=\u001b[39m train_model(hyp, data, val_data)\n\u001b[1;32m      9\u001b[0m     sub_sol\u001b[39m.\u001b[39mappend((train_loss, val_loss))\n\u001b[1;32m     10\u001b[0m     models[(hyp\u001b[39m.\u001b[39mmodel\u001b[39m.\u001b[39m\u001b[39m__name__\u001b[39m, i)] \u001b[39m=\u001b[39mrunner_state \n",
      "Cell \u001b[0;32mIn[21], line 3\u001b[0m, in \u001b[0;36mtrain_model\u001b[0;34m(hyp, train_data, val_data)\u001b[0m\n\u001b[1;32m      1\u001b[0m \u001b[39mdef\u001b[39;00m \u001b[39mtrain_model\u001b[39m(hyp, train_data, val_data):\n\u001b[1;32m      2\u001b[0m     train \u001b[39m=\u001b[39m make_train(hyp, train_data, val_data, loss_function_ho\u001b[39m=\u001b[39mmake_catch_bce_loss_fn, val_loss_function_ho\u001b[39m=\u001b[39mmake_catch_accuracy_loss_fn)\n\u001b[0;32m----> 3\u001b[0m     result \u001b[39m=\u001b[39m train(jax\u001b[39m.\u001b[39;49mrandom\u001b[39m.\u001b[39;49mPRNGKey(\u001b[39m42\u001b[39;49m))\n\u001b[1;32m      4\u001b[0m     losses \u001b[39m=\u001b[39m result[\u001b[39m1\u001b[39m][\u001b[39m0\u001b[39m]\n\u001b[1;32m      5\u001b[0m     \u001b[39mreturn\u001b[39;00m losses\u001b[39m.\u001b[39mtrain_loss\u001b[39m.\u001b[39mreshape(\u001b[39m-\u001b[39m\u001b[39m1\u001b[39m), losses\u001b[39m.\u001b[39mval_loss\u001b[39m.\u001b[39mreshape(\u001b[39m-\u001b[39m\u001b[39m1\u001b[39m), result[\u001b[39m0\u001b[39m]\n",
      "File \u001b[0;32m~/ms_mono/model_based/model_based/train.py:187\u001b[0m, in \u001b[0;36mmake_train.<locals>.train\u001b[0;34m(rng)\u001b[0m\n\u001b[1;32m    184\u001b[0m optimizer \u001b[39m=\u001b[39m adam(hyper_params\u001b[39m.\u001b[39mlearning_rate)\n\u001b[1;32m    186\u001b[0m _, params_key \u001b[39m=\u001b[39m jax\u001b[39m.\u001b[39mrandom\u001b[39m.\u001b[39msplit(rng)\n\u001b[0;32m--> 187\u001b[0m params \u001b[39m=\u001b[39m network\u001b[39m.\u001b[39;49minit(\n\u001b[1;32m    188\u001b[0m     params_key,\n\u001b[1;32m    189\u001b[0m     jnp\u001b[39m.\u001b[39;49mones((state_dim,)),\n\u001b[1;32m    190\u001b[0m     jnp\u001b[39m.\u001b[39;49mones((action_dim,)),\n\u001b[1;32m    191\u001b[0m )\n\u001b[1;32m    192\u001b[0m apply_network \u001b[39m=\u001b[39m jax\u001b[39m.\u001b[39mvmap(network\u001b[39m.\u001b[39mapply, in_axes\u001b[39m=\u001b[39m(\u001b[39mNone\u001b[39;00m, \u001b[39m0\u001b[39m, \u001b[39m0\u001b[39m))\n\u001b[1;32m    194\u001b[0m train_state \u001b[39m=\u001b[39m TrainState\u001b[39m.\u001b[39mcreate(\n\u001b[1;32m    195\u001b[0m     apply_fn\u001b[39m=\u001b[39mapply_network,\n\u001b[1;32m    196\u001b[0m     params\u001b[39m=\u001b[39mparams,\n\u001b[1;32m    197\u001b[0m     tx\u001b[39m=\u001b[39moptimizer,\n\u001b[1;32m    198\u001b[0m )\n",
      "    \u001b[0;31m[... skipping hidden 9 frame]\u001b[0m\n",
      "File \u001b[0;32m~/ms_mono/model_based/model_based/transition_models.py:188\u001b[0m, in \u001b[0;36mCatchEquiModel.__call__\u001b[0;34m(self, state, action)\u001b[0m\n\u001b[1;32m    184\u001b[0m \u001b[39m@nn\u001b[39m\u001b[39m.\u001b[39mcompact\n\u001b[1;32m    185\u001b[0m \u001b[39mdef\u001b[39;00m \u001b[39m__call__\u001b[39m(\n\u001b[1;32m    186\u001b[0m     \u001b[39mself\u001b[39m, state: Observation, action: Action\n\u001b[1;32m    187\u001b[0m ) \u001b[39m-\u001b[39m\u001b[39m>\u001b[39m Tuple[distrax\u001b[39m.\u001b[39mCategorical, distrax\u001b[39m.\u001b[39mCategorical]:\n\u001b[0;32m--> 188\u001b[0m     next_states_stacked \u001b[39m=\u001b[39m _CatchEquiLogits(\n\u001b[1;32m    189\u001b[0m         \u001b[39mself\u001b[39;49m\u001b[39m.\u001b[39;49mstate_dim, \u001b[39mself\u001b[39;49m\u001b[39m.\u001b[39;49mhidden_dim, \u001b[39mself\u001b[39;49m\u001b[39m.\u001b[39;49maction_dim\n\u001b[1;32m    190\u001b[0m     )(state, action)\n\u001b[1;32m    191\u001b[0m     next_state \u001b[39m=\u001b[39m catch_proximal_state_pool(next_states_stacked, state)\n\u001b[1;32m    192\u001b[0m     ball_dist \u001b[39m=\u001b[39m distrax\u001b[39m.\u001b[39mCategorical(logits\u001b[39m=\u001b[39mnext_state\u001b[39m.\u001b[39mat[\u001b[39m.\u001b[39m\u001b[39m.\u001b[39m\u001b[39m.\u001b[39m, :\u001b[39m45\u001b[39m]\u001b[39m.\u001b[39mget())\n",
      "    \u001b[0;31m[... skipping hidden 2 frame]\u001b[0m\n",
      "File \u001b[0;32m~/ms_mono/model_based/model_based/transition_models.py:167\u001b[0m, in \u001b[0;36m_CatchEquiLogits.__call__\u001b[0;34m(self, state, action)\u001b[0m\n\u001b[1;32m    162\u001b[0m state_embedding_layer \u001b[39m=\u001b[39m C2Dense(\u001b[39mself\u001b[39m\u001b[39m.\u001b[39mhidden_dim \u001b[39m/\u001b[39m\u001b[39m/\u001b[39m \u001b[39m2\u001b[39m, transform\u001b[39m=\u001b[39mcatch_transform)\n\u001b[1;32m    163\u001b[0m action_embedding_layer \u001b[39m=\u001b[39m C2Dense(\n\u001b[1;32m    164\u001b[0m     \u001b[39mself\u001b[39m\u001b[39m.\u001b[39mhidden_dim \u001b[39m/\u001b[39m\u001b[39m/\u001b[39m \u001b[39m2\u001b[39m, transform\u001b[39m=\u001b[39mcatch_action_transform\n\u001b[1;32m    165\u001b[0m )\n\u001b[0;32m--> 167\u001b[0m state_embedding \u001b[39m=\u001b[39m nn\u001b[39m.\u001b[39mrelu(state_embedding_layer(state))\n\u001b[1;32m    168\u001b[0m action_embedding \u001b[39m=\u001b[39m nn\u001b[39m.\u001b[39mrelu(action_embedding_layer(action))\n\u001b[1;32m    170\u001b[0m concat \u001b[39m=\u001b[39m jnp\u001b[39m.\u001b[39mconcatenate(\n\u001b[1;32m    171\u001b[0m     [state_embedding\u001b[39m.\u001b[39mreshape(\u001b[39m-\u001b[39m\u001b[39m1\u001b[39m), action_embedding\u001b[39m.\u001b[39mreshape(\u001b[39m-\u001b[39m\u001b[39m1\u001b[39m)], axis\u001b[39m=\u001b[39m\u001b[39m0\u001b[39m\n\u001b[1;32m    172\u001b[0m )\n",
      "    \u001b[0;31m[... skipping hidden 2 frame]\u001b[0m\n",
      "File \u001b[0;32m~/ms_mono/g_conv/g_conv/c2.py:35\u001b[0m, in \u001b[0;36mC2Dense.__call__\u001b[0;34m(self, input)\u001b[0m\n\u001b[1;32m     27\u001b[0m \u001b[39m@nn\u001b[39m\u001b[39m.\u001b[39mcompact\n\u001b[1;32m     28\u001b[0m \u001b[39mdef\u001b[39;00m \u001b[39m__call__\u001b[39m(\u001b[39mself\u001b[39m, \u001b[39minput\u001b[39m):\n\u001b[1;32m     29\u001b[0m     layer \u001b[39m=\u001b[39m nn\u001b[39m.\u001b[39mDense(\n\u001b[1;32m     30\u001b[0m         features\u001b[39m=\u001b[39m\u001b[39mself\u001b[39m\u001b[39m.\u001b[39mfeatures,\n\u001b[1;32m     31\u001b[0m         use_bias\u001b[39m=\u001b[39m\u001b[39mself\u001b[39m\u001b[39m.\u001b[39muse_bias,\n\u001b[1;32m     32\u001b[0m     )\n\u001b[1;32m     34\u001b[0m     \u001b[39mreturn\u001b[39;00m jnp\u001b[39m.\u001b[39mstack(\n\u001b[0;32m---> 35\u001b[0m         [layer(\u001b[39minput\u001b[39;49m), layer(\u001b[39mself\u001b[39m\u001b[39m.\u001b[39mtransform(\u001b[39minput\u001b[39m))],\n\u001b[1;32m     36\u001b[0m         axis\u001b[39m=\u001b[39m\u001b[39m-\u001b[39m\u001b[39m1\u001b[39m,\n\u001b[1;32m     37\u001b[0m     )\u001b[39m.\u001b[39msqueeze()\n",
      "    \u001b[0;31m[... skipping hidden 2 frame]\u001b[0m\n",
      "File \u001b[0;32m~/ms_mono/.venv/lib/python3.10/site-packages/flax/linen/linear.py:196\u001b[0m, in \u001b[0;36mDense.__call__\u001b[0;34m(self, inputs)\u001b[0m\n\u001b[1;32m    186\u001b[0m \u001b[39m@compact\u001b[39m\n\u001b[1;32m    187\u001b[0m \u001b[39mdef\u001b[39;00m \u001b[39m__call__\u001b[39m(\u001b[39mself\u001b[39m, inputs: Array) \u001b[39m-\u001b[39m\u001b[39m>\u001b[39m Array:\n\u001b[1;32m    188\u001b[0m \u001b[39m  \u001b[39m\u001b[39m\"\"\"Applies a linear transformation to the inputs along the last dimension.\u001b[39;00m\n\u001b[1;32m    189\u001b[0m \n\u001b[1;32m    190\u001b[0m \u001b[39m  Args:\u001b[39;00m\n\u001b[0;32m   (...)\u001b[0m\n\u001b[1;32m    194\u001b[0m \u001b[39m    The transformed input.\u001b[39;00m\n\u001b[1;32m    195\u001b[0m \u001b[39m  \"\"\"\u001b[39;00m\n\u001b[0;32m--> 196\u001b[0m   kernel \u001b[39m=\u001b[39m \u001b[39mself\u001b[39;49m\u001b[39m.\u001b[39;49mparam(\u001b[39m'\u001b[39;49m\u001b[39mkernel\u001b[39;49m\u001b[39m'\u001b[39;49m,\n\u001b[1;32m    197\u001b[0m                       \u001b[39mself\u001b[39;49m\u001b[39m.\u001b[39;49mkernel_init,\n\u001b[1;32m    198\u001b[0m                       (jnp\u001b[39m.\u001b[39;49mshape(inputs)[\u001b[39m-\u001b[39;49m\u001b[39m1\u001b[39;49m], \u001b[39mself\u001b[39;49m\u001b[39m.\u001b[39;49mfeatures),\n\u001b[1;32m    199\u001b[0m                       \u001b[39mself\u001b[39;49m\u001b[39m.\u001b[39;49mparam_dtype)\n\u001b[1;32m    200\u001b[0m   \u001b[39mif\u001b[39;00m \u001b[39mself\u001b[39m\u001b[39m.\u001b[39muse_bias:\n\u001b[1;32m    201\u001b[0m     bias \u001b[39m=\u001b[39m \u001b[39mself\u001b[39m\u001b[39m.\u001b[39mparam(\u001b[39m'\u001b[39m\u001b[39mbias\u001b[39m\u001b[39m'\u001b[39m, \u001b[39mself\u001b[39m\u001b[39m.\u001b[39mbias_init, (\u001b[39mself\u001b[39m\u001b[39m.\u001b[39mfeatures,),\n\u001b[1;32m    202\u001b[0m                       \u001b[39mself\u001b[39m\u001b[39m.\u001b[39mparam_dtype)\n",
      "    \u001b[0;31m[... skipping hidden 2 frame]\u001b[0m\n",
      "File \u001b[0;32m~/ms_mono/.venv/lib/python3.10/site-packages/jax/_src/nn/initializers.py:279\u001b[0m, in \u001b[0;36mvariance_scaling.<locals>.init\u001b[0;34m(key, shape, dtype)\u001b[0m\n\u001b[1;32m    277\u001b[0m dtype \u001b[39m=\u001b[39m dtypes\u001b[39m.\u001b[39mcanonicalize_dtype(dtype)\n\u001b[1;32m    278\u001b[0m named_shape \u001b[39m=\u001b[39m core\u001b[39m.\u001b[39mas_named_shape(shape)\n\u001b[0;32m--> 279\u001b[0m fan_in, fan_out \u001b[39m=\u001b[39m _compute_fans(named_shape, in_axis, out_axis, batch_axis)\n\u001b[1;32m    280\u001b[0m \u001b[39mif\u001b[39;00m mode \u001b[39m==\u001b[39m \u001b[39m\"\u001b[39m\u001b[39mfan_in\u001b[39m\u001b[39m\"\u001b[39m: denominator \u001b[39m=\u001b[39m fan_in\n\u001b[1;32m    281\u001b[0m \u001b[39melif\u001b[39;00m mode \u001b[39m==\u001b[39m \u001b[39m\"\u001b[39m\u001b[39mfan_out\u001b[39m\u001b[39m\"\u001b[39m: denominator \u001b[39m=\u001b[39m fan_out\n",
      "File \u001b[0;32m~/ms_mono/.venv/lib/python3.10/site-packages/jax/_src/nn/initializers.py:185\u001b[0m, in \u001b[0;36m_compute_fans\u001b[0;34m(shape, in_axis, out_axis, batch_axis)\u001b[0m\n\u001b[1;32m    183\u001b[0m \u001b[39melse\u001b[39;00m:\n\u001b[1;32m    184\u001b[0m   batch_size \u001b[39m=\u001b[39m math\u001b[39m.\u001b[39mprod([shape[i] \u001b[39mfor\u001b[39;00m i \u001b[39min\u001b[39;00m batch_axis])\n\u001b[0;32m--> 185\u001b[0m receptive_field_size \u001b[39m=\u001b[39m shape\u001b[39m.\u001b[39;49mtotal \u001b[39m/\u001b[39;49m in_size \u001b[39m/\u001b[39;49m out_size \u001b[39m/\u001b[39m batch_size\n\u001b[1;32m    186\u001b[0m fan_in \u001b[39m=\u001b[39m in_size \u001b[39m*\u001b[39m receptive_field_size\n\u001b[1;32m    187\u001b[0m fan_out \u001b[39m=\u001b[39m out_size \u001b[39m*\u001b[39m receptive_field_size\n",
      "\u001b[0;31mZeroDivisionError\u001b[0m: float division by zero"
     ]
    }
   ],
   "source": [
    "moving_average = lambda x, w: np.convolve(x, np.ones(w), 'valid') / w\n",
    "cs = [\"blue\", \"indigo\"]\n",
    "sol =[]\n",
    "models = {}\n",
    "for hyp, c in zip(hyps, cs):\n",
    "    sub_sol = []\n",
    "    for i, data in enumerate(datas):\n",
    "        train_loss, val_loss, runner_state= train_model(hyp, data, val_data)\n",
    "        sub_sol.append((train_loss, val_loss))\n",
    "        models[(hyp.model.__name__, i)] =runner_state \n",
    "        \n",
    "    sol.append(sub_sol)"
   ]
  },
  {
   "cell_type": "code",
   "execution_count": null,
   "metadata": {},
   "outputs": [
    {
     "data": {
      "image/png": "[encoded data removed]",
      "text/plain": [
       "<Figure size 2000x1000 with 6 Axes>"
      ]
     },
     "metadata": {},
     "output_type": "display_data"
    }
   ],
   "source": [
    "matplotlib.rcParams.update( {\"text.usetex\": True, \"font.family\": \"serif\",})\n",
    "titles = [\"Expert Policy: All Actions\", \"Expert Policy: Only Left Action\", \"Random Policy\"]\n",
    "fig, ax = plt.subplots(2, 3, figsize=(20, 10))\n",
    "for sub_sol, hyp, c in zip(sol, hyps, cs):\n",
    "    for i, ((train_loss, val_loss), tit) in enumerate(zip(sub_sol, titles)):\n",
    "        train_loss= moving_average(train_loss, 10)\n",
    "        ax[0, i].semilogy(get_x(train_loss, hyp.epochs),train_loss, label=f\"{hyp.model.__name__} Train\", color=c, alpha = 0.3)\n",
    "        if tit == \"Random Policy\":\n",
    "            ax[1, i].plot(get_x(val_loss, hyp.epochs), val_loss, label=f\"{hyp.model.__name__} Expert Policy Validation\", color=c, linestyle=\"--\")\n",
    "        else: \n",
    "            ax[1, i].plot(get_x(val_loss, hyp.epochs), val_loss, label=f\"{hyp.model.__name__} Val\", color=c, linestyle=\"--\")\n",
    "        ax[0, i].legend(loc=\"lower left\")\n",
    "        ax[0, i].set_xlabel(\"Epochs\")\n",
    "        ax[1, i].set_xlabel(\"Epochs\")\n",
    "        ax[0, i].set_ylabel(\"Cross Entropy Loss\")\n",
    "        ax[1, i].set_ylabel(\"Validation Accuracy\")\n",
    "        ax[0, i].set_title(tit)\n",
    "        ax[0, i].set_xlim(0, EPCH)\n",
    "        ax[1, i].set_ylim(0, 1)\n",
    "\n"
   ]
  },
  {
   "cell_type": "code",
   "execution_count": null,
   "metadata": {},
   "outputs": [],
   "source": [
    "rng = jax.random.PRNGKey(42)\n",
    "key = jax.random.split(rng, 500)\n",
    "train = jax.jit(ho.make_train(ho.CONFIG, ActorCritic))\n",
    "\n",
    "result = train(rng)\n",
    "runner_state= result[\"runner_state\"]\n"
   ]
  },
  {
   "cell_type": "markdown",
   "metadata": {},
   "source": [
    "# Catch Playground"
   ]
  },
  {
   "cell_type": "code",
   "execution_count": null,
   "metadata": {},
   "outputs": [],
   "source": [
    "from base_rl.wrappers import FlattenObservationWrapper\n",
    "env = FlattenObservationWrapper(Catch())\n",
    "env_params = env.default_params\n",
    "ts = models[(\"CatchModel\", 2)][1]"
   ]
  },
  {
   "cell_type": "code",
   "execution_count": null,
   "metadata": {},
   "outputs": [
    {
     "name": "stdout",
     "output_type": "stream",
     "text": [
      "0.61859995\n"
     ]
    }
   ],
   "source": [
    "def _accuracy(ball_dist, paddle_dist, next_state):\n",
    "    ball_pred = jnp.zeros_like(ball_dist.probs).at[ball_dist.mode()].set(1.0)\n",
    "    paddle_pred = (\n",
    "        jnp.zeros_like(paddle_dist.probs).at[paddle_dist.mode()].set(1.0)\n",
    "    )\n",
    "    pred = jnp.concatenate(\n",
    "        [\n",
    "            ball_pred.reshape(45),\n",
    "            paddle_pred.reshape(5),\n",
    "        ],\n",
    "        axis=0,\n",
    "    )\n",
    "    accuracy = pred == next_state\n",
    "    return accuracy.all()\n",
    "# def sample_action(key):\n",
    "#     action = env.sample_action(key)\n",
    "#     return action\n",
    "    \n",
    "\n",
    "accs = []\n",
    "num_envs = 100\n",
    "single_key = jax.random.PRNGKey(0)\n",
    "key = jax.random.split(single_key, num_envs)\n",
    "obs, env_state = jax.vmap(env.reset, in_axes=(0, None))(key, env_params)\n",
    "aply = ts.apply_fn\n",
    "other_acc = []\n",
    "policy_aply = jax.vmap(ActorCritic(3).apply, in_axes =(None, 0))\n",
    "\n",
    "for i in range(100):\n",
    "    _, single_key = jax.random.split(single_key)\n",
    "    # action = jax.random.randint(single_key, minval=0, maxval=3, shape=(num_envs,))\n",
    "    action = policy_aply(expert_params, obs)[0].sample(seed=single_key)\n",
    "    ball_dist, pad_dist = aply(ts.params, obs, action)\n",
    "    next_obs, env_state, rew, done, info = jax.vmap(env.step)(key, env_state, action)\n",
    "\n",
    "    prediction = jax.vmap(_accuracy)(ball_dist, pad_dist, next_obs)\n",
    "    obs = next_obs\n",
    "    accs.append(prediction.mean())\n",
    "\n",
    "print(jnp.stack(accs).mean())\n",
    "\n"
   ]
  },
  {
   "cell_type": "code",
   "execution_count": null,
   "metadata": {},
   "outputs": [],
   "source": []
  },
  {
   "cell_type": "code",
   "execution_count": null,
   "metadata": {},
   "outputs": [],
   "source": []
  },
  {
   "cell_type": "code",
   "execution_count": null,
   "metadata": {},
   "outputs": [],
   "source": []
  },
  {
   "cell_type": "code",
   "execution_count": null,
   "metadata": {},
   "outputs": [],
   "source": []
  }
 ],
 "metadata": {
  "kernelspec": {
   "display_name": ".venv",
   "language": "python",
   "name": "python3"
  },
  "language_info": {
   "codemirror_mode": {
    "name": "ipython",
    "version": 3
   },
   "file_extension": ".py",
   "mimetype": "text/x-python",
   "name": "python",
   "nbconvert_exporter": "python",
   "pygments_lexer": "ipython3",
   "version": "3.10.12"
  },
  "orig_nbformat": 4
 },
 "nbformat": 4,
 "nbformat_minor": 2
}
