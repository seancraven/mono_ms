{
 "cells": [
  {
   "cell_type": "code",
   "execution_count": 32,
   "metadata": {},
   "outputs": [],
   "source": [
    "from model_based.transition_models import SimpleCatchEqui \n",
    "import matplotlib\n",
    "import jax\n",
    "import jax.numpy as jnp\n",
    "import numpy as np\n",
    "from distrax import Categorical\n",
    "import matplotlib.pyplot as plt\n",
    "matplotlib.rcParams.update({'text.usetex': True, \"font.family\": \"serif\"})"
   ]
  },
  {
   "cell_type": "code",
   "execution_count": 33,
   "metadata": {},
   "outputs": [],
   "source": [
    "\n",
    "def mock_all_states():\n",
    "    states = jnp.zeros((45, 5, 50))\n",
    "    for ball in range(45):\n",
    "        for pad in range(5):\n",
    "            state = jnp.zeros(50)\n",
    "            state = state.at[ball].set(1.0)\n",
    "            state = state.at[45 + pad].set(1.0)\n",
    "            assert sum(state) == 2.0\n",
    "            states = states.at[ball, pad, :].set(state)\n",
    "    assert jnp.sum(states) == 45 * 5 * 2\n",
    "    return states.reshape(-1, 50)"
   ]
  },
  {
   "cell_type": "markdown",
   "metadata": {},
   "source": [
    "Is there a non random relationship between the location of the predictions of the two transition images"
   ]
  },
  {
   "cell_type": "code",
   "execution_count": null,
   "metadata": {},
   "outputs": [],
   "source": [
    "\n",
    "NUM_STATES = 225\n",
    "states = mock_all_states()\n",
    "model = SimpleCatchEqui()\n",
    "@jax.jit\n",
    "def distance_distribution():\n",
    "    modes_a = jnp.arange(50)\n",
    "    modes_b = jnp.arange(50)\n",
    "    xy = jax.vmap(lambda mode: divmod(mode, 5))\n",
    "    modes_a_xy = xy(modes_a)\n",
    "    modes_b_xy = xy(modes_b)\n",
    "    def dist(x_1, y_1, x_2, y_2):\n",
    "        return jnp.sqrt((x_1 - x_2)**2 + (y_1 - y_2)**2)\n",
    "    broadcast_dist = jax.vmap(dist, in_axes=(None, None, 0, 0))\n",
    "    dists = broadcast_dist(*modes_a_xy, *modes_b_xy)\n",
    "    return dists.reshape(-1)\n"
   ]
  },
  {
   "cell_type": "code",
   "execution_count": 65,
   "metadata": {},
   "outputs": [
    {
     "data": {
      "text/plain": [
       "(array([0.20306924, 0.        , 0.        , 0.        , 0.        ,\n",
       "        0.        , 0.        , 0.        , 0.        , 0.        ,\n",
       "        0.69043545, 0.        , 0.        , 0.        , 0.58483944,\n",
       "        0.        , 0.        , 0.        , 0.        , 0.        ,\n",
       "        0.5685939 , 0.        , 0.95848687, 0.        , 0.        ,\n",
       "        0.        , 0.        , 0.        , 0.38989296, 0.        ,\n",
       "        0.44675235, 0.        , 0.74729484, 0.        , 0.        ,\n",
       "        0.        , 0.60108498, 0.        , 0.        , 0.        ,\n",
       "        0.32491159, 0.53610153, 0.        , 0.22743701, 0.        ,\n",
       "        0.42238302, 0.        , 0.        , 0.        , 0.        ,\n",
       "        0.51173327, 0.32491159, 0.        , 0.        , 0.24368251,\n",
       "        0.        , 0.        , 0.09747348, 0.        , 0.16245579,\n",
       "        0.16245501, 0.25992927, 0.        , 0.        , 0.19494601,\n",
       "        0.0812279 , 0.        , 0.        , 0.12996401, 0.        ,\n",
       "        0.        , 0.3167888 , 0.        , 0.21119253, 0.        ,\n",
       "        0.        , 0.        , 0.097473  , 0.        , 0.        ,\n",
       "        0.        , 0.25992927, 0.        , 0.097473  , 0.        ,\n",
       "        0.        , 0.064982  , 0.        , 0.        , 0.        ,\n",
       "        0.032491  , 0.10559575, 0.        , 0.04873697, 0.        ,\n",
       "        0.        , 0.032491  , 0.        , 0.        , 0.0162455 ]),\n",
       " array([0.        , 0.09848858, 0.19697715, 0.29546574, 0.39395431,\n",
       "        0.49244291, 0.59093148, 0.68942004, 0.78790861, 0.88639718,\n",
       "        0.98488581, 1.08337438, 1.18186295, 1.28035152, 1.37884009,\n",
       "        1.47732866, 1.57581723, 1.6743058 , 1.77279437, 1.87128305,\n",
       "        1.96977162, 2.06826019, 2.16674876, 2.26523733, 2.3637259 ,\n",
       "        2.46221447, 2.56070304, 2.65919161, 2.75768018, 2.85616875,\n",
       "        2.95465732, 3.05314589, 3.15163445, 3.25012302, 3.34861159,\n",
       "        3.44710016, 3.54558873, 3.6440773 , 3.74256611, 3.84105468,\n",
       "        3.93954325, 4.03803158, 4.13652039, 4.23500872, 4.33349752,\n",
       "        4.43198586, 4.53047466, 4.62896299, 4.7274518 , 4.82594013,\n",
       "        4.92442894, 5.02291775, 5.12140608, 5.21989489, 5.31838322,\n",
       "        5.41687202, 5.51536036, 5.61384916, 5.71233749, 5.8108263 ,\n",
       "        5.90931463, 6.00780344, 6.10629177, 6.20478058, 6.30326891,\n",
       "        6.40175772, 6.50024605, 6.59873486, 6.69722319, 6.79571199,\n",
       "        6.89420033, 6.99268913, 7.09117746, 7.18966627, 7.2881546 ,\n",
       "        7.38664341, 7.48513222, 7.58362055, 7.68210936, 7.78059769,\n",
       "        7.87908649, 7.97757483, 8.07606316, 8.17455196, 8.27304077,\n",
       "        8.37152958, 8.47001743, 8.56850624, 8.66699505, 8.76548386,\n",
       "        8.86397171, 8.96246052, 9.06094933, 9.15943813, 9.25792599,\n",
       "        9.35641479, 9.4549036 , 9.55339241, 9.65188026, 9.75036907,\n",
       "        9.84885788]),\n",
       " <BarContainer object of 100 artists>)"
      ]
     },
     "execution_count": 65,
     "metadata": {},
     "output_type": "execute_result"
    },
    {
     "data": {
      "image/png": "[encoded data removed]",
      "text/plain": [
       "<Figure size 640x480 with 1 Axes>"
      ]
     },
     "metadata": {},
     "output_type": "display_data"
    }
   ],
   "source": [
    "\n",
    "\n",
    "def location_corr(rng):\n",
    "    model_params = model.init(rng, jnp.zeros((1, 50)), jnp.zeros((1,)))\n",
    "    apply_fn = jax.jit(jax.vmap(model.apply, in_axes=(None, 0, 0)))\n",
    "    zeros = apply_fn(model_params, states, jnp.zeros((NUM_STATES,1)))\n",
    "    ones = apply_fn(model_params, states, jnp.ones((NUM_STATES,1)))\n",
    "    twos = apply_fn(model_params, states, 2*jnp.ones((NUM_STATES,1)))\n",
    "    all_state_action = jnp.concatenate((zeros,ones, twos), axis = 0)\n",
    "        \n",
    "\n",
    "    def logits_mode_dist(logits):\n",
    "        def dist(pair_logits):\n",
    "            assert pair_logits.shape == (50, 2)\n",
    "            def _xy(_logits):\n",
    "                x, y= divmod(Categorical(logits=_logits.reshape(-1)).mode(), 5)\n",
    "                return x, y\n",
    "            _x, _y= _xy(pair_logits[..., 0])\n",
    "            inv_x, inv_y = _xy(pair_logits[..., 1])\n",
    "            dx_= (_x- inv_x)**2\n",
    "            dy_= (_y - inv_y)**2\n",
    "            dist= jnp.sqrt(dx_ + dy_)\n",
    "            return dist\n",
    "        dist_fn = jax.vmap(dist)\n",
    "        return dist_fn(logits)\n",
    "    return logits_mode_dist(all_state_action)\n",
    "key = jax.random.PRNGKey(10)\n",
    "keys = jax.random.split(key, 10000)\n",
    "dist_fn = jax.jit(jax.vmap(location_corr))\n",
    "with jax.disable_jit(False):\n",
    "    dists = dist_fn(keys)\n",
    "\n",
    "plt.hist(dists.reshape(-1), density=True, bins=100)\n",
    "plt.hist(distance_distribution().reshape(-1), bins=100, density=True)\n"
   ]
  },
  {
   "cell_type": "code",
   "execution_count": 78,
   "metadata": {},
   "outputs": [],
   "source": [
    "model = SimpleCatchEqui()\n",
    "states = mock_all_states()\n",
    "def fp_corr(rng, state):\n",
    "    # TODO make this so that it calculates the correlation per cell over all random initialization, and takes a average over the absolute value.\n",
    "    def inner(rng):\n",
    "        model_params = model.init(rng, jnp.zeros((1, 50)), jnp.zeros((1,)))\n",
    "        apply_fn = jax.jit(jax.vmap(model.apply, in_axes=(None, 0, 0)))\n",
    "        zeros = apply_fn(model_params, state, jnp.zeros((1,1)))\n",
    "        ones = apply_fn(model_params, state, jnp.ones((1,1)))\n",
    "        twos = apply_fn(model_params, state, 2*jnp.ones((1,1)))\n",
    "        all_state_action = jnp.concatenate((zeros,ones, twos), axis = 0)\n",
    "        return all_state_action\n",
    "    keys = jax.random.split(rng, 1000)\n",
    "    logits_sample = jax.vmap(inner)(keys).reshape(-1, 50, 2)\n",
    "\n",
    "\n",
    "\n",
    "    def calculate_r_squared(logits_array):\n",
    "        \"\"\"Calculates the r^2 for each cell in the catch distributions\"\"\"\n",
    "        means = logits_array.mean(axis = 0)\n",
    "        assert means.shape == (50, 2)\n",
    "        standard = logits_array - means[None, :, :]\n",
    "        standard_x = (standard[:, :, 0]**2).mean(axis=0)\n",
    "        standard_y = (standard[:, :, 1]**2).mean(axis=0)\n",
    "        cov = (standard[:, :, 0] * standard[:, :, 1]).mean(axis=0)\n",
    "        assert cov.shape == (50, ), cov.shape\n",
    "        cov = cov/(jnp.sqrt(standard_x) * jnp.sqrt(standard_y))\n",
    "        return cov.reshape(10, 5)\n",
    "    return calculate_r_squared(logits_sample)\n",
    "\n",
    "key = jax.random.PRNGKey(10)\n",
    "corr_mat = fp_corr(key)"
   ]
  },
  {
   "cell_type": "code",
   "execution_count": 79,
   "metadata": {},
   "outputs": [
    {
     "data": {
      "image/png": "[encoded data removed]",
      "text/plain": [
       "<Figure size 1500x700 with 2 Axes>"
      ]
     },
     "metadata": {},
     "output_type": "display_data"
    }
   ],
   "source": [
    "fig, ax = plt.subplots(figsize=(15, 7))\n",
    "colors = matplotlib.colors\n",
    "im = ax.imshow(corr_mat, vmin=-1, vmax=1, cmap=\"seismic\")\n",
    "ax.set_xticks(jnp.arange(0,5))\n",
    "ax.set_yticks(jnp.arange(0,10))\n",
    "for j in range(5):\n",
    "    for i in range(10):\n",
    "        text = ax.text(j, i, f\"{corr_mat[i, j]:.2f}\",\n",
    "                       ha=\"center\", va=\"center\", color=\"black\")\n",
    "cbar = ax.figure.colorbar(im, )\n",
    "\n",
    "cbar.set_label(\"Pearson Correlation Coefficient\")"
   ]
  },
  {
   "cell_type": "code",
   "execution_count": 29,
   "metadata": {},
   "outputs": [
    {
     "name": "stdout",
     "output_type": "stream",
     "text": [
      "[[0. 0. 0. 0. 0.]\n",
      " [0. 0. 0. 0. 0.]\n",
      " [0. 0. 0. 0. 0.]\n",
      " [0. 0. 0. 0. 0.]\n",
      " [0. 0. 0. 0. 0.]\n",
      " [0. 0. 0. 0. 0.]\n",
      " [0. 0. 0. 0. 0.]\n",
      " [0. 0. 0. 0. 0.]\n",
      " [0. 0. 0. 0. 0.]\n",
      " [0. 0. 0. 0. 0.]]\n"
     ]
    }
   ],
   "source": [
    "print(corr_ste)"
   ]
  },
  {
   "cell_type": "code",
   "execution_count": 26,
   "metadata": {},
   "outputs": [
    {
     "name": "stdout",
     "output_type": "stream",
     "text": [
      "[[0.5780132  0.60083073 0.5870634  0.60083073 0.5780132 ]\n",
      " [0.58564925 0.57915497 0.60297084 0.57915497 0.5856492 ]\n",
      " [0.5813029  0.58845377 0.5913502  0.58845377 0.5813029 ]\n",
      " [0.58979565 0.5788102  0.58465075 0.5788102  0.58979565]\n",
      " [0.59260637 0.59260076 0.58893615 0.5926008  0.59260637]\n",
      " [0.5818763  0.5805325  0.5932493  0.5805325  0.5818763 ]\n",
      " [0.59278333 0.5759226  0.60609215 0.5759226  0.59278333]\n",
      " [0.5849423  0.5916889  0.5949142  0.5916889  0.5849423 ]\n",
      " [0.57974064 0.58365464 0.59418267 0.58365464 0.57974064]\n",
      " [0.57969767 0.56498384 0.60318816 0.56498384 0.57969767]]\n"
     ]
    }
   ],
   "source": [
    "print(corr_mat)"
   ]
  },
  {
   "cell_type": "code",
   "execution_count": null,
   "metadata": {},
   "outputs": [],
   "source": []
  }
 ],
 "metadata": {
  "kernelspec": {
   "display_name": ".venv",
   "language": "python",
   "name": "python3"
  },
  "language_info": {
   "codemirror_mode": {
    "name": "ipython",
    "version": 3
   },
   "file_extension": ".py",
   "mimetype": "text/x-python",
   "name": "python",
   "nbconvert_exporter": "python",
   "pygments_lexer": "ipython3",
   "version": "3.10.12"
  },
  "orig_nbformat": 4
 },
 "nbformat": 4,
 "nbformat_minor": 2
}
